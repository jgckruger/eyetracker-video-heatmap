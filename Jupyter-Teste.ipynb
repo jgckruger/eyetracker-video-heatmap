{
 "cells": [
  {
   "cell_type": "code",
   "execution_count": 33,
   "metadata": {},
   "outputs": [
    {
     "name": "stdout",
     "output_type": "stream",
     "text": [
      "Collecting imageio_ffmpeg\n",
      "  Downloading imageio_ffmpeg-0.4.2-py3-none-win_amd64.whl (22.6 MB)\n",
      "Installing collected packages: imageio-ffmpeg\n",
      "Successfully installed imageio-ffmpeg-0.4.2\n"
     ]
    }
   ],
   "source": [
    "!pip install imageio_ffmpeg"
   ]
  },
  {
   "cell_type": "code",
   "execution_count": 53,
   "metadata": {},
   "outputs": [],
   "source": [
    "from heatmappy import Heatmapper, VideoHeatmapper\n",
    "from PIL import Image\n",
    "import pandas as pd\n",
    "import pandas as pd\n",
    "from sklearn import preprocessing\n",
    "from random import randint\n",
    "FRAMERATE = 90\n",
    "min_max_scaler = preprocessing.MinMaxScaler((0,20000))"
   ]
  },
  {
   "cell_type": "code",
   "execution_count": 58,
   "metadata": {},
   "outputs": [
    {
     "data": {
      "text/html": [
       "<div>\n",
       "<style scoped>\n",
       "    .dataframe tbody tr th:only-of-type {\n",
       "        vertical-align: middle;\n",
       "    }\n",
       "\n",
       "    .dataframe tbody tr th {\n",
       "        vertical-align: top;\n",
       "    }\n",
       "\n",
       "    .dataframe thead th {\n",
       "        text-align: right;\n",
       "    }\n",
       "</style>\n",
       "<table border=\"1\" class=\"dataframe\">\n",
       "  <thead>\n",
       "    <tr style=\"text-align: right;\">\n",
       "      <th></th>\n",
       "      <th>GazeX</th>\n",
       "      <th>GazeY</th>\n",
       "    </tr>\n",
       "  </thead>\n",
       "  <tbody>\n",
       "    <tr>\n",
       "      <th>0</th>\n",
       "      <td>882.0</td>\n",
       "      <td>451.0</td>\n",
       "    </tr>\n",
       "    <tr>\n",
       "      <th>1</th>\n",
       "      <td>937.0</td>\n",
       "      <td>392.8</td>\n",
       "    </tr>\n",
       "    <tr>\n",
       "      <th>2</th>\n",
       "      <td>978.0</td>\n",
       "      <td>371.2</td>\n",
       "    </tr>\n",
       "    <tr>\n",
       "      <th>3</th>\n",
       "      <td>1018.0</td>\n",
       "      <td>390.8</td>\n",
       "    </tr>\n",
       "    <tr>\n",
       "      <th>4</th>\n",
       "      <td>1026.2</td>\n",
       "      <td>394.4</td>\n",
       "    </tr>\n",
       "  </tbody>\n",
       "</table>\n",
       "</div>"
      ],
      "text/plain": [
       "    GazeX  GazeY\n",
       "0   882.0  451.0\n",
       "1   937.0  392.8\n",
       "2   978.0  371.2\n",
       "3  1018.0  390.8\n",
       "4  1026.2  394.4"
      ]
     },
     "execution_count": 58,
     "metadata": {},
     "output_type": "execute_result"
    }
   ],
   "source": [
    "df = pd.read_csv('entry.csv', delimiter=\";\")\n",
    "df = df[[\"GazeX\",\"GazeY\",\"FrameNr\"]]\n",
    "df = df.drop([\"FrameNr\"],axis=1)\n",
    "df.head()"
   ]
  },
  {
   "cell_type": "code",
   "execution_count": 47,
   "metadata": {},
   "outputs": [],
   "source": [
    "records = df.to_records(index=False)\n",
    "result = list(records)"
   ]
  },
  {
   "cell_type": "code",
   "execution_count": 48,
   "metadata": {},
   "outputs": [
    {
     "name": "stderr",
     "output_type": "stream",
     "text": [
      "chunk:   0%|          | 0/459 [00:00<?, ?it/s, now=None]"
     ]
    },
    {
     "name": "stdout",
     "output_type": "stream",
     "text": [
      "Moviepy - Building video ou2t.mp4.\n",
      "MoviePy - Writing audio in ou2tTEMP_MPY_wvf_snd.mp3\n"
     ]
    },
    {
     "name": "stderr",
     "output_type": "stream",
     "text": [
      "t:   0%|          | 0/1870 [00:00<?, ?it/s, now=None]             "
     ]
    },
    {
     "name": "stdout",
     "output_type": "stream",
     "text": [
      "MoviePy - Done.\n",
      "Moviepy - Writing video ou2t.mp4\n",
      "\n"
     ]
    },
    {
     "name": "stderr",
     "output_type": "stream",
     "text": [
      "t: 100%|█████████▉| 1868/1870 [00:30<00:00, 75.97it/s, now=None]C:\\Users\\pulma\\anaconda3\\lib\\site-packages\\moviepy-2.0.0.dev2-py3.8.egg\\moviepy\\video\\io\\ffmpeg_reader.py:154: UserWarning: In file teste.mp4, 2764800 bytes wanted but 0 bytes read,at frame index 623 (out of a total 623 frames), at time 20.77/20.78 sec. Using the last valid frame instead.\n",
      "  warnings.warn(\n",
      "                                                                \r"
     ]
    },
    {
     "name": "stdout",
     "output_type": "stream",
     "text": [
      "Moviepy - Done !\n",
      "Moviepy - video ready ou2t.mp4\n"
     ]
    }
   ],
   "source": [
    "img_heatmapper = Heatmapper()\n",
    "video_heatmapper = VideoHeatmapper(img_heatmapper)\n",
    "\n",
    "heatmap_video = video_heatmapper.heatmap_on_video_path(\n",
    "    video_path='teste.mp4',\n",
    "    points=result\n",
    ")\n",
    "\n",
    "heatmap_video.write_videofile('ou2t.mp4', bitrate=\"5000k\", fps=90)"
   ]
  },
  {
   "cell_type": "code",
   "execution_count": 7,
   "metadata": {},
   "outputs": [
    {
     "name": "stdout",
     "output_type": "stream",
     "text": [
      "Requirement already up-to-date: moviepy in c:\\users\\pulma\\anaconda3\\lib\\site-packages\\moviepy-2.0.0.dev2-py3.8.egg (2.0.0.dev2)\n",
      "Requirement already satisfied, skipping upgrade: decorator<5.0,>=4.0.2 in c:\\users\\pulma\\anaconda3\\lib\\site-packages (from moviepy) (4.4.2)\n",
      "Requirement already satisfied, skipping upgrade: imageio<3.0,>=2.5 in c:\\users\\pulma\\anaconda3\\lib\\site-packages (from moviepy) (2.9.0)\n",
      "Requirement already satisfied, skipping upgrade: imageio_ffmpeg>=0.2.0 in c:\\users\\pulma\\anaconda3\\lib\\site-packages\\imageio_ffmpeg-0.4.2-py3.8-win-amd64.egg (from moviepy) (0.4.2)\n",
      "Requirement already satisfied, skipping upgrade: numpy>=1.17.3 in c:\\users\\pulma\\anaconda3\\lib\\site-packages (from moviepy) (1.19.2)\n",
      "Requirement already satisfied, skipping upgrade: requests<3.0,>=2.8.1 in c:\\users\\pulma\\anaconda3\\lib\\site-packages (from moviepy) (2.24.0)\n",
      "Requirement already satisfied, skipping upgrade: proglog<=1.0.0 in c:\\users\\pulma\\anaconda3\\lib\\site-packages\\proglog-0.1.9-py3.8.egg (from moviepy) (0.1.9)\n",
      "Requirement already satisfied, skipping upgrade: pillow in c:\\users\\pulma\\anaconda3\\lib\\site-packages (from imageio<3.0,>=2.5->moviepy) (8.0.1)\n",
      "Requirement already satisfied, skipping upgrade: urllib3!=1.25.0,!=1.25.1,<1.26,>=1.21.1 in c:\\users\\pulma\\anaconda3\\lib\\site-packages (from requests<3.0,>=2.8.1->moviepy) (1.25.11)\n",
      "Requirement already satisfied, skipping upgrade: chardet<4,>=3.0.2 in c:\\users\\pulma\\anaconda3\\lib\\site-packages (from requests<3.0,>=2.8.1->moviepy) (3.0.4)\n",
      "Requirement already satisfied, skipping upgrade: certifi>=2017.4.17 in c:\\users\\pulma\\anaconda3\\lib\\site-packages (from requests<3.0,>=2.8.1->moviepy) (2020.6.20)\n",
      "Requirement already satisfied, skipping upgrade: idna<3,>=2.5 in c:\\users\\pulma\\anaconda3\\lib\\site-packages (from requests<3.0,>=2.8.1->moviepy) (2.10)\n",
      "Requirement already satisfied, skipping upgrade: tqdm in c:\\users\\pulma\\anaconda3\\lib\\site-packages (from proglog<=1.0.0->moviepy) (4.50.2)\n"
     ]
    }
   ],
   "source": [
    "!pip install moviepy --upgrade"
   ]
  },
  {
   "cell_type": "code",
   "execution_count": null,
   "metadata": {},
   "outputs": [],
   "source": []
  }
 ],
 "metadata": {
  "kernelspec": {
   "display_name": "Python 3",
   "language": "python",
   "name": "python3"
  },
  "language_info": {
   "codemirror_mode": {
    "name": "ipython",
    "version": 3
   },
   "file_extension": ".py",
   "mimetype": "text/x-python",
   "name": "python",
   "nbconvert_exporter": "python",
   "pygments_lexer": "ipython3",
   "version": "3.8.5"
  }
 },
 "nbformat": 4,
 "nbformat_minor": 4
}
